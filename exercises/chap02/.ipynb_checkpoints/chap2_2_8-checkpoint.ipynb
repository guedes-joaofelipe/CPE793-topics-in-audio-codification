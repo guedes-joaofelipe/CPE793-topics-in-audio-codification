{
 "cells": [
  {
   "cell_type": "code",
   "execution_count": 1,
   "metadata": {},
   "outputs": [],
   "source": [
    "import numpy as np\n",
    "import matplotlib.pyplot as plt \n",
    "import pandas as pd\n",
    "import io"
   ]
  },
  {
   "cell_type": "markdown",
   "metadata": {},
   "source": [
    "### 8.a) Working with bits\n",
    "\n",
    "Text is normally stored as 8 bit ASCII codes (of which only the lowest seven bits are used to store the basic character set). For this exercise, you will create a lossy text codec that stores text using only five bits per character. In doing so, you will gain experience in dealing with reading/writing binary coded files."
   ]
  },
  {
   "cell_type": "markdown",
   "metadata": {},
   "source": [
    "#### 1. Write a function that takes the M lowest bits from an unsigned integer and writes them starting at the Nth bit location in an array of BYTES (unsigned character variables)."
   ]
  },
  {
   "cell_type": "code",
   "execution_count": 2,
   "metadata": {},
   "outputs": [],
   "source": [
    "def insert_uint_in_bytearray(i: int, m: int, n: int, byte_array: bytearray) -> bytearray:\n",
    "    # unsigned int has 32 bits\n",
    "    uns_i = i & 0xffffffff\n",
    "    bin_uns_i = bin(uns_i).split('b')[1].zfill(32)\n",
    "    m_bits = bin_uns_i[-m:]\n",
    "    \n",
    "    # byte limit\n",
    "    limit = 8 - n\n",
    "    \n",
    "    # bits are added respecting the byte limit\n",
    "    m_bits = m_bits[:limit]\n",
    "    \n",
    "    \n",
    "    int_array = []\n",
    "    for b in byte_array:\n",
    "        # getting signal bit\n",
    "        s_bit = bin(b).split('b')[0]\n",
    "        \n",
    "        # getting info bits with byte length\n",
    "        bits = bin(b).split('b')[1].zfill(8)\n",
    "        \n",
    "        # adding m_bits in bits\n",
    "        new_bits = bits[:n] + m_bits\n",
    "        \n",
    "        # each set of 8 bits + signal is a int\n",
    "        # that will be turned into one byte\n",
    "        int_from_bits = int(s_bit + 'b' + new_bits, base=2)\n",
    "        int_array.append(int_from_bits)\n",
    "    \n",
    "    return bytearray(int_array)"
   ]
  },
  {
   "cell_type": "code",
   "execution_count": 3,
   "metadata": {},
   "outputs": [],
   "source": [
    "prime_numbers = [2, 3, 5, 7]\n",
    "byte_array = bytearray(prime_numbers)"
   ]
  },
  {
   "cell_type": "code",
   "execution_count": 4,
   "metadata": {},
   "outputs": [
    {
     "name": "stdout",
     "output_type": "stream",
     "text": [
      "bytearray(b'\\x02\\x03\\x05\\x07')\n"
     ]
    }
   ],
   "source": [
    "print(byte_array)"
   ]
  },
  {
   "cell_type": "code",
   "execution_count": 5,
   "metadata": {},
   "outputs": [
    {
     "name": "stdout",
     "output_type": "stream",
     "text": [
      "bytearray(b'\\x02\\x02\\x04\\x06')\n"
     ]
    }
   ],
   "source": [
    "print(insert_uint_in_bytearray(15, 5, 7, byte_array))"
   ]
  },
  {
   "cell_type": "markdown",
   "metadata": {},
   "source": [
    "#### 2. Define a mapping from the basic ASCII character set onto only five bits. (Obviously, you will need to sometimes map multiple ASCII characters onto the same five-bit code. For example, you will need to map both capital and small letters onto the same code.)"
   ]
  },
  {
   "cell_type": "code",
   "execution_count": 6,
   "metadata": {},
   "outputs": [],
   "source": [
    "char2bits = {\n",
    "    'a': '00000', 'b': '00001', 'c': '00010',\n",
    "    'd': '00011', 'e': '00100', 'f': '00101',\n",
    "    'g': '00110', 'h': '00111', 'i': '01000',\n",
    "    'j': '01001', 'k': '01010', 'l': '01011',\n",
    "    'm': '01100', 'n': '01101', 'o': '01110',\n",
    "    'p': '01111', 'q': '10000', 'r': '10001',\n",
    "    's': '10010', 't': '10011', 'u': '10100',\n",
    "    'v': '10101', 'w': '10110', 'x': '10111',\n",
    "    'y': '11000', 'z': '11001', '1': '01011',\n",
    "    '2': '11010', '3': '00100', '4': '00000',\n",
    "    '5': '10010', '6': '00001', '7': '11011',\n",
    "    '8': '11100', '9': '11101', '0': '01110',\n",
    "}\n",
    "\n",
    "bits2char = {v: k for k, v in char2bits.items()}"
   ]
  },
  {
   "cell_type": "markdown",
   "metadata": {},
   "source": [
    "#### 3. Write a text encoder/decoder that allows you to read in ASCII text files (e.g., .txt files from Notepad), map the text into five bit codes, pack the coded text into arrays of BYTES, write the packed arrays into a coded file, read in your coded files, decode your coded files back into ASCII codes, and write out your decoded text file."
   ]
  },
  {
   "cell_type": "markdown",
   "metadata": {},
   "source": [
    "#### 4. Test your five-bit text codec on several sample text files. Check file sizes to see what compression ratio you achieved. How readable is your decoded file?"
   ]
  },
  {
   "cell_type": "markdown",
   "metadata": {},
   "source": [
    "#### 5. Change your mapping to use two of your codes as control characters. Let one code signify that the next character is capitalized. Let the other code signify that the next character comes from a different set of mappings onto five-bit codes (i.e. include some important characters that weren't included in the basic mapping). How does this change impact compression ratio? How does this change impact readability?"
   ]
  }
 ],
 "metadata": {
  "kernelspec": {
   "display_name": "Python 3",
   "language": "python",
   "name": "python3"
  },
  "language_info": {
   "codemirror_mode": {
    "name": "ipython",
    "version": 3
   },
   "file_extension": ".py",
   "mimetype": "text/x-python",
   "name": "python",
   "nbconvert_exporter": "python",
   "pygments_lexer": "ipython3",
   "version": "3.8.5"
  }
 },
 "nbformat": 4,
 "nbformat_minor": 2
}
