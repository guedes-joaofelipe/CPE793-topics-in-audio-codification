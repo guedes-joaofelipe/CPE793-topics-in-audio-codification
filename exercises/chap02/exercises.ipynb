{
 "cells": [
  {
   "cell_type": "markdown",
   "metadata": {
    "collapsed": true,
    "pycharm": {
     "name": "#%% md\n"
    }
   },
   "source": [
    "# Exercises:\n",
    "\n",
    "### a. Working with bits:\n",
    "Text is normally stored as 8 bit ASCII codes (of which only the lowest seven bits are used to store\n",
    " the basic character set). For this exercise, you will create a lossy text codec that stores\n",
    "  text using only five bits per character. In doing so, you will gain experience in dealing\n",
    "   with reading/writing binary coded files.\n",
    "1. Write a function that takes the M lowest bits from an unsigned integer and writes them starting at the\n",
    "Nth bit location in an array of BYTES (unsigned character variables).\n",
    "2. Define a mapping from the basic ASCII character set onto only five bits. (Obviously, you will need\n",
    "to sometimes map multiple ASCII\n",
    "characters onto the same five-bit code. For example, you will need to\n",
    "map both capital and small letters onto the same code.)\n",
    "3. Write a text encoder/decoder that allows you to read in ASCII text files (e.g., .txt\n",
    "files from Notepad), map the text into five bit codes, pack the coded text into arrays of\n",
    "BYTES, write the packed arrays into a coded file, read in your coded files, decode your\n",
    "coded files\n",
    "back into ASCII codes, and write out your decoded text file.\n",
    "4. Test your five-bit text codec on several sample text files. Check file sizes to see what\n",
    "compression ratio you achieved. How readable is\n",
    "your decoded file?\n",
    "5. Change your mapping to use two of your codes as control characters.\n",
    "Let one code signify that the next character is capitalized. Let the other code signify that\n",
    "the next character comes from a different set of mappings onto five-bit codes (i.e. include\n",
    "some important characters that weren't included in the basic mapping). How does this change\n",
    "impact compression ratio? How does this change impact readability?"
   ]
  },
  {
   "cell_type": "code",
   "execution_count": 46,
   "outputs": [
    {
     "data": {
      "text/plain": "7"
     },
     "execution_count": 46,
     "metadata": {},
     "output_type": "execute_result"
    }
   ],
   "source": [
    "def count_bits(arg):\n",
    "    count = 0\n",
    "    while arg:\n",
    "        count += 1\n",
    "        arg >>= 1\n",
    "    return count\n",
    "\n",
    "def ex1(original_value, lowest_bits, starting_position):\n",
    "    assert(0 <= original_value < 2 ** 8)\n",
    "    assert(0 <= lowest_bits <= 8)\n",
    "    assert(0 <= starting_position <= 8)\n",
    "    return _ex1(original_value, lowest_bits, starting_position)\n",
    "\n",
    "def _ex1(original_value: int, lowest_bits: int, starting_position: int):\n",
    "    filtered: int = original_value if lowest_bits == 0 else (original_value << (8 - lowest_bits)) & 255\n",
    "    first_bit = 8 - count_bits(filtered) + 1\n",
    "    if starting_position > first_bit:\n",
    "        return filtered >> (starting_position - first_bit)\n",
    "    return filtered << (first_bit - starting_position)"
   ],
   "metadata": {
    "collapsed": false,
    "pycharm": {
     "name": "#%%\n"
    }
   }
  }
 ],
 "metadata": {
  "kernelspec": {
   "display_name": "Python 3",
   "language": "python",
   "name": "python3"
  },
  "language_info": {
   "codemirror_mode": {
    "name": "ipython",
    "version": 2
   },
   "file_extension": ".py",
   "mimetype": "text/x-python",
   "name": "python",
   "nbconvert_exporter": "python",
   "pygments_lexer": "ipython2",
   "version": "2.7.6"
  }
 },
 "nbformat": 4,
 "nbformat_minor": 0
}